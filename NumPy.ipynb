{
 "cells": [
  {
   "cell_type": "markdown",
   "id": "21e564f8",
   "metadata": {},
   "source": [
    "#          All the important functions and usuage of NumPy Array"
   ]
  },
  {
   "cell_type": "markdown",
   "id": "3ba29e9d",
   "metadata": {},
   "source": [
    "# Import Library "
   ]
  },
  {
   "cell_type": "code",
   "execution_count": 37,
   "id": "c4081bb9",
   "metadata": {},
   "outputs": [],
   "source": [
    "import numpy as np"
   ]
  },
  {
   "cell_type": "markdown",
   "id": "760c3137",
   "metadata": {},
   "source": [
    "# Lists vs Numpy - Time taken"
   ]
  },
  {
   "cell_type": "code",
   "execution_count": 41,
   "id": "75d2cd93",
   "metadata": {},
   "outputs": [],
   "source": [
    "from time import process_time"
   ]
  },
  {
   "cell_type": "markdown",
   "id": "17d7982d",
   "metadata": {},
   "source": [
    "# Time taken by a list "
   ]
  },
  {
   "cell_type": "code",
   "execution_count": 43,
   "id": "42476ea9",
   "metadata": {},
   "outputs": [
    {
     "name": "stdout",
     "output_type": "stream",
     "text": [
      "Time taken to process end_time:  0.0014468260000000122\n"
     ]
    }
   ],
   "source": [
    "list = [i for i in range(10000)]\n",
    "start_time = process_time()\n",
    "\n",
    "final_list = [i+5 for i in list]\n",
    "\n",
    "end_time = process_time()\n",
    "\n",
    "time = end_time - start_time\n",
    "print(\"Time taken to process end_time: \", time)"
   ]
  },
  {
   "cell_type": "markdown",
   "id": "58eb354d",
   "metadata": {},
   "source": [
    "# Time taken by numpy array"
   ]
  },
  {
   "cell_type": "code",
   "execution_count": 46,
   "id": "e14b1609",
   "metadata": {},
   "outputs": [
    {
     "name": "stdout",
     "output_type": "stream",
     "text": [
      "Time taken to process end_time:  0.0003283729999998819\n"
     ]
    }
   ],
   "source": [
    "np_array = np.array([i for i in range(10000)])\n",
    "\n",
    "start = process_time()\n",
    "\n",
    "np_array += 5 \n",
    "\n",
    "end = process_time()\n",
    "\n",
    "time = end - start\n",
    "print(\"Time taken to process end_time: \", time)"
   ]
  },
  {
   "cell_type": "markdown",
   "id": "517445cf",
   "metadata": {},
   "source": [
    "# Numpy Arrays"
   ]
  },
  {
   "cell_type": "code",
   "execution_count": 47,
   "id": "299c2b43",
   "metadata": {},
   "outputs": [
    {
     "name": "stdout",
     "output_type": "stream",
     "text": [
      "[1, 2, 3, 4, 5]\n"
     ]
    },
    {
     "data": {
      "text/plain": [
       "list"
      ]
     },
     "execution_count": 47,
     "metadata": {},
     "output_type": "execute_result"
    }
   ],
   "source": [
    "#list\n",
    "list1 = [1,2,3,4,5]\n",
    "print(list1)\n",
    "type(list1)"
   ]
  },
  {
   "cell_type": "code",
   "execution_count": 48,
   "id": "971fff6a",
   "metadata": {},
   "outputs": [
    {
     "name": "stdout",
     "output_type": "stream",
     "text": [
      "[1 2 3 4 5]\n"
     ]
    },
    {
     "data": {
      "text/plain": [
       "numpy.ndarray"
      ]
     },
     "execution_count": 48,
     "metadata": {},
     "output_type": "execute_result"
    }
   ],
   "source": [
    "#Numpy Arrays\n",
    "np_array = np.array([1,2,3,4,5])\n",
    "print(np_array)\n",
    "type(np_array)"
   ]
  },
  {
   "cell_type": "code",
   "execution_count": 49,
   "id": "9c6a7a4a",
   "metadata": {},
   "outputs": [
    {
     "name": "stdout",
     "output_type": "stream",
     "text": [
      "[1 2 3 4 5]\n"
     ]
    }
   ],
   "source": [
    "#Creating a 1 Dim array\n",
    "a = np.array([1,2,3,4,5])\n",
    "print(a)"
   ]
  },
  {
   "cell_type": "code",
   "execution_count": 50,
   "id": "e3664aaa",
   "metadata": {},
   "outputs": [
    {
     "data": {
      "text/plain": [
       "(5,)"
      ]
     },
     "execution_count": 50,
     "metadata": {},
     "output_type": "execute_result"
    }
   ],
   "source": [
    "a.shape\n"
   ]
  },
  {
   "cell_type": "code",
   "execution_count": 51,
   "id": "cd6c4564",
   "metadata": {},
   "outputs": [
    {
     "name": "stdout",
     "output_type": "stream",
     "text": [
      "[[1 2 3 4]\n",
      " [5 6 7 8]]\n"
     ]
    }
   ],
   "source": [
    "b = np.array([[1,2,3,4],[5,6,7,8]])\n",
    "print(b)"
   ]
  },
  {
   "cell_type": "code",
   "execution_count": 52,
   "id": "9dbdce45",
   "metadata": {},
   "outputs": [
    {
     "data": {
      "text/plain": [
       "(2, 4)"
      ]
     },
     "execution_count": 52,
     "metadata": {},
     "output_type": "execute_result"
    }
   ],
   "source": [
    "b.shape"
   ]
  },
  {
   "cell_type": "code",
   "execution_count": 54,
   "id": "6eb070ca",
   "metadata": {},
   "outputs": [
    {
     "name": "stdout",
     "output_type": "stream",
     "text": [
      "[[1. 2. 3. 4.]\n",
      " [5. 6. 7. 8.]]\n"
     ]
    }
   ],
   "source": [
    "c = np.array([[1,2,3,4],[5,6,7,8]],dtype = float)\n",
    "print(c)"
   ]
  },
  {
   "cell_type": "markdown",
   "id": "2cf5a1cb",
   "metadata": {},
   "source": [
    "# Initial placeholdrs in  numpy arrays "
   ]
  },
  {
   "cell_type": "markdown",
   "id": "77ff95e9",
   "metadata": {},
   "source": [
    "### create a numpy array of Zeroes\n"
   ]
  },
  {
   "cell_type": "code",
   "execution_count": 73,
   "id": "97a73c94",
   "metadata": {},
   "outputs": [
    {
     "name": "stdout",
     "output_type": "stream",
     "text": [
      "[[0. 0. 0. 0. 0.]\n",
      " [0. 0. 0. 0. 0.]\n",
      " [0. 0. 0. 0. 0.]\n",
      " [0. 0. 0. 0. 0.]]\n"
     ]
    }
   ],
   "source": [
    "x = np.zeros((4,5))\n",
    "print(x)"
   ]
  },
  {
   "cell_type": "markdown",
   "id": "0982a4e0",
   "metadata": {},
   "source": [
    "### create a numpy array of Ones\n",
    " "
   ]
  },
  {
   "cell_type": "code",
   "execution_count": 69,
   "id": "d30cc6a8",
   "metadata": {},
   "outputs": [
    {
     "name": "stdout",
     "output_type": "stream",
     "text": [
      "[[1. 1. 1. 1. 1.]\n",
      " [1. 1. 1. 1. 1.]\n",
      " [1. 1. 1. 1. 1.]\n",
      " [1. 1. 1. 1. 1.]]\n"
     ]
    }
   ],
   "source": [
    "y = np.ones((4,5))\n",
    "print(y)"
   ]
  },
  {
   "cell_type": "markdown",
   "id": "02b4742c",
   "metadata": {},
   "source": [
    "### Array of a particular value\n"
   ]
  },
  {
   "cell_type": "code",
   "execution_count": 62,
   "id": "62e1bf12",
   "metadata": {},
   "outputs": [
    {
     "name": "stdout",
     "output_type": "stream",
     "text": [
      "[[5 5 5 5]\n",
      " [5 5 5 5]\n",
      " [5 5 5 5]\n",
      " [5 5 5 5]\n",
      " [5 5 5 5]]\n"
     ]
    }
   ],
   "source": [
    "array = np.full((5,4),5)\n",
    "print(array)"
   ]
  },
  {
   "cell_type": "markdown",
   "id": "b8321c9d",
   "metadata": {},
   "source": [
    "### Create an Identity matrix\n"
   ]
  },
  {
   "cell_type": "code",
   "execution_count": 70,
   "id": "c4ad21ad",
   "metadata": {},
   "outputs": [
    {
     "name": "stdout",
     "output_type": "stream",
     "text": [
      "[[1. 0. 0. 0.]\n",
      " [0. 1. 0. 0.]\n",
      " [0. 0. 1. 0.]\n",
      " [0. 0. 0. 1.]]\n"
     ]
    }
   ],
   "source": [
    "a = np.eye(4)\n",
    "print(a)"
   ]
  },
  {
   "cell_type": "markdown",
   "id": "5827c63d",
   "metadata": {},
   "source": [
    "### Create a numpy array with random values ranging from (0,1)\n",
    " "
   ]
  },
  {
   "cell_type": "code",
   "execution_count": 64,
   "id": "2b5be880",
   "metadata": {},
   "outputs": [
    {
     "name": "stdout",
     "output_type": "stream",
     "text": [
      "[[0.13267225 0.52003143 0.75283319 0.89008189]\n",
      " [0.25170187 0.622421   0.23273777 0.29712332]\n",
      " [0.77228884 0.40519505 0.07493457 0.22996246]]\n"
     ]
    }
   ],
   "source": [
    "b = np.random.random((3,4))\n",
    "print(b)"
   ]
  },
  {
   "cell_type": "markdown",
   "id": "9747bcca",
   "metadata": {},
   "source": [
    "### random values array within a specific range\n"
   ]
  },
  {
   "cell_type": "code",
   "execution_count": 71,
   "id": "fb2a1477",
   "metadata": {},
   "outputs": [
    {
     "name": "stdout",
     "output_type": "stream",
     "text": [
      "[[14 66 27 32 27]\n",
      " [86 15 86 28 25]\n",
      " [50 37 97 91 77]]\n"
     ]
    }
   ],
   "source": [
    "c = np.random.randint(10,100,(3,5))\n",
    "print(c)"
   ]
  },
  {
   "cell_type": "markdown",
   "id": "bd6b9f0c",
   "metadata": {},
   "source": [
    "### Array of evenly spaced values --> specifying the number of values required\n",
    " "
   ]
  },
  {
   "cell_type": "code",
   "execution_count": 78,
   "id": "118b6625",
   "metadata": {},
   "outputs": [
    {
     "name": "stdout",
     "output_type": "stream",
     "text": [
      "[10. 14. 18. 22. 26. 30.]\n"
     ]
    }
   ],
   "source": [
    "d = np.linspace(10,30,6)\n",
    "print(d)"
   ]
  },
  {
   "cell_type": "markdown",
   "id": "5d557a1a",
   "metadata": {},
   "source": [
    "### Array of evenly spaced values --> specifying the step"
   ]
  },
  {
   "cell_type": "code",
   "execution_count": 79,
   "id": "96883d77",
   "metadata": {
    "scrolled": false
   },
   "outputs": [
    {
     "name": "stdout",
     "output_type": "stream",
     "text": [
      "[10 15 20 25]\n"
     ]
    }
   ],
   "source": [
    "e = np.arange(10,30,5)\n",
    "print(e)"
   ]
  },
  {
   "cell_type": "markdown",
   "id": "51b18b25",
   "metadata": {},
   "source": [
    "# Convert list to numpy array"
   ]
  },
  {
   "cell_type": "code",
   "execution_count": 80,
   "id": "da6dbb90",
   "metadata": {},
   "outputs": [
    {
     "name": "stdout",
     "output_type": "stream",
     "text": [
      "[1 2 3 4 5]\n"
     ]
    },
    {
     "data": {
      "text/plain": [
       "numpy.ndarray"
      ]
     },
     "execution_count": 80,
     "metadata": {},
     "output_type": "execute_result"
    }
   ],
   "source": [
    "list2 = [1,2,3,4,5]\n",
    "\n",
    "np_array = np.asarray(list2)\n",
    "print(np_array)\n",
    "type(np_array)"
   ]
  },
  {
   "cell_type": "markdown",
   "id": "b4cf6b51",
   "metadata": {},
   "source": [
    "# Analysing a anumpy array "
   ]
  },
  {
   "cell_type": "code",
   "execution_count": 81,
   "id": "a409b3b0",
   "metadata": {},
   "outputs": [
    {
     "name": "stdout",
     "output_type": "stream",
     "text": [
      "[[60 52 63 56 41]\n",
      " [78 47 48 42 59]\n",
      " [43 37 25 24 33]\n",
      " [23 13 10 65 32]\n",
      " [46 59 57 26 38]]\n"
     ]
    }
   ],
   "source": [
    "c = np.random.randint(10,90,(5,5))\n",
    "print(c)"
   ]
  },
  {
   "cell_type": "markdown",
   "id": "f132d770",
   "metadata": {},
   "source": [
    "### Array dimension"
   ]
  },
  {
   "cell_type": "code",
   "execution_count": 82,
   "id": "1e28758a",
   "metadata": {},
   "outputs": [
    {
     "name": "stdout",
     "output_type": "stream",
     "text": [
      "(5, 5)\n"
     ]
    }
   ],
   "source": [
    "print(c.shape)"
   ]
  },
  {
   "cell_type": "markdown",
   "id": "fd889bcb",
   "metadata": {},
   "source": [
    "### Number of dimensions "
   ]
  },
  {
   "cell_type": "code",
   "execution_count": 83,
   "id": "91a7b8e4",
   "metadata": {},
   "outputs": [
    {
     "name": "stdout",
     "output_type": "stream",
     "text": [
      "2\n"
     ]
    }
   ],
   "source": [
    "print(c.ndim)"
   ]
  },
  {
   "cell_type": "markdown",
   "id": "64e48004",
   "metadata": {},
   "source": [
    "### Number of elements in an array "
   ]
  },
  {
   "cell_type": "code",
   "execution_count": 84,
   "id": "9ba06f80",
   "metadata": {},
   "outputs": [
    {
     "name": "stdout",
     "output_type": "stream",
     "text": [
      "25\n"
     ]
    }
   ],
   "source": [
    "print(c.size)"
   ]
  },
  {
   "cell_type": "markdown",
   "id": "e4b4af17",
   "metadata": {},
   "source": [
    "### Checking the satatype of the values in the array  "
   ]
  },
  {
   "cell_type": "code",
   "execution_count": 85,
   "id": "3946e56f",
   "metadata": {},
   "outputs": [
    {
     "name": "stdout",
     "output_type": "stream",
     "text": [
      "int64\n"
     ]
    }
   ],
   "source": [
    "print(c.dtype)"
   ]
  },
  {
   "cell_type": "markdown",
   "id": "edafb330",
   "metadata": {},
   "source": [
    "# Mathematical operations on a numpy array "
   ]
  },
  {
   "cell_type": "code",
   "execution_count": 86,
   "id": "a5839fc1",
   "metadata": {},
   "outputs": [
    {
     "name": "stdout",
     "output_type": "stream",
     "text": [
      "[1, 2, 3, 4, 5, 6, 7, 8]\n"
     ]
    }
   ],
   "source": [
    "list1 = [1,2,3,4]\n",
    "list2 = [5,6,7,8]\n",
    "\n",
    "print(list1 + list2) # concatenate the lists"
   ]
  },
  {
   "cell_type": "code",
   "execution_count": 90,
   "id": "1e7a2fea",
   "metadata": {},
   "outputs": [
    {
     "name": "stdout",
     "output_type": "stream",
     "text": [
      "[[2 9 0]\n",
      " [1 7 9]\n",
      " [0 0 9]] \n",
      "\n",
      "[[18 12 16]\n",
      " [18 17 14]\n",
      " [17 16 13]] \n",
      "\n"
     ]
    }
   ],
   "source": [
    "a = np.random.randint(0,10,(3,3))\n",
    "b = np.random.randint(10,20,(3,3))\n",
    "\n",
    "print(a,\"\\n\")\n",
    "print(b,\"\\n\")"
   ]
  },
  {
   "cell_type": "code",
   "execution_count": 91,
   "id": "6a4078de",
   "metadata": {},
   "outputs": [
    {
     "name": "stdout",
     "output_type": "stream",
     "text": [
      "[[20 21 16]\n",
      " [19 24 23]\n",
      " [17 16 22]] \n",
      "\n",
      "[[-16  -3 -16]\n",
      " [-17 -10  -5]\n",
      " [-17 -16  -4]] \n",
      "\n",
      "[[ 36 108   0]\n",
      " [ 18 119 126]\n",
      " [  0   0 117]] \n",
      "\n",
      "[[0.11111111 0.75       0.        ]\n",
      " [0.05555556 0.41176471 0.64285714]\n",
      " [0.         0.         0.69230769]] \n",
      "\n"
     ]
    }
   ],
   "source": [
    "print(a+b,\"\\n\")\n",
    "print(a-b,\"\\n\")\n",
    "print(a*b,\"\\n\")\n",
    "print(a/b,\"\\n\")"
   ]
  },
  {
   "cell_type": "code",
   "execution_count": 92,
   "id": "f991cf38",
   "metadata": {},
   "outputs": [
    {
     "name": "stdout",
     "output_type": "stream",
     "text": [
      "[[5 9 8]\n",
      " [0 9 7]\n",
      " [4 0 9]] \n",
      "\n",
      "[[10 14 17]\n",
      " [19 16 11]\n",
      " [17 15 13]] \n",
      "\n"
     ]
    }
   ],
   "source": [
    "a = np.random.randint(0,10,(3,3))\n",
    "b = np.random.randint(10,20,(3,3))\n",
    "\n",
    "print(a,\"\\n\")\n",
    "print(b,\"\\n\")"
   ]
  },
  {
   "cell_type": "code",
   "execution_count": 94,
   "id": "566a0369",
   "metadata": {},
   "outputs": [
    {
     "name": "stdout",
     "output_type": "stream",
     "text": [
      "[[15 23 25]\n",
      " [19 25 18]\n",
      " [21 15 22]] \n",
      "\n",
      "[[ -5  -5  -9]\n",
      " [-19  -7  -4]\n",
      " [-13 -15  -4]] \n",
      "\n",
      "[[ 50 126 136]\n",
      " [  0 144  77]\n",
      " [ 68   0 117]] \n",
      "\n",
      "[[0.5        0.64285714 0.47058824]\n",
      " [0.         0.5625     0.63636364]\n",
      " [0.23529412 0.         0.69230769]] \n",
      "\n"
     ]
    }
   ],
   "source": [
    "print(np.add(a,b),\"\\n\")\n",
    "print(np.subtract(a,b),\"\\n\")\n",
    "print(np.multiply(a,b),\"\\n\")\n",
    "print(np.divide(a,b),\"\\n\")"
   ]
  },
  {
   "cell_type": "markdown",
   "id": "05b32a17",
   "metadata": {},
   "source": [
    "# Array manipulation"
   ]
  },
  {
   "cell_type": "code",
   "execution_count": 96,
   "id": "72e6d516",
   "metadata": {},
   "outputs": [
    {
     "name": "stdout",
     "output_type": "stream",
     "text": [
      "[[1 8 8]\n",
      " [1 8 7]] \n",
      "\n",
      "(2, 3)\n"
     ]
    }
   ],
   "source": [
    "array = np.random.randint(0,10,(2,3))\n",
    "print(array,\"\\n\")\n",
    "print(array.shape)"
   ]
  },
  {
   "cell_type": "markdown",
   "id": "f509d6ea",
   "metadata": {},
   "source": [
    "### Transpose"
   ]
  },
  {
   "cell_type": "code",
   "execution_count": 101,
   "id": "c064d84e",
   "metadata": {},
   "outputs": [
    {
     "name": "stdout",
     "output_type": "stream",
     "text": [
      "[[6 6]\n",
      " [8 7]\n",
      " [8 6]\n",
      " [9 5]] \n",
      "\n",
      "(4, 2)\n"
     ]
    }
   ],
   "source": [
    "trans1 = np.transpose(array)\n",
    "print(trans1,\"\\n\")\n",
    "print(trans1.shape)"
   ]
  },
  {
   "cell_type": "code",
   "execution_count": 100,
   "id": "a036ef07",
   "metadata": {},
   "outputs": [
    {
     "name": "stdout",
     "output_type": "stream",
     "text": [
      "[[6 8 8 9]\n",
      " [6 7 6 5]] \n",
      "\n",
      "(2, 4)\n"
     ]
    }
   ],
   "source": [
    "# Another way\n",
    "array = np.random.randint(0,10,(2,4))\n",
    "print(array,\"\\n\")\n",
    "print(array.shape)"
   ]
  },
  {
   "cell_type": "code",
   "execution_count": 103,
   "id": "dcf9a1e0",
   "metadata": {},
   "outputs": [
    {
     "name": "stdout",
     "output_type": "stream",
     "text": [
      "[[6 6]\n",
      " [8 7]\n",
      " [8 6]\n",
      " [9 5]] \n",
      "\n",
      "(4, 2)\n"
     ]
    }
   ],
   "source": [
    "trans2 = array.T\n",
    "print(trans2,\"\\n\")\n",
    "print(trans2.shape)"
   ]
  },
  {
   "cell_type": "markdown",
   "id": "21a3d0d2",
   "metadata": {},
   "source": [
    "# Reshaping an array"
   ]
  },
  {
   "cell_type": "code",
   "execution_count": 105,
   "id": "bacccef0",
   "metadata": {},
   "outputs": [
    {
     "name": "stdout",
     "output_type": "stream",
     "text": [
      "[[7 2 1 0]\n",
      " [3 3 4 2]\n",
      " [7 9 6 1]] \n",
      "\n",
      "(3, 4)\n"
     ]
    }
   ],
   "source": [
    "a = np.random.randint(0,10,(3,4))\n",
    "print(a,\"\\n\")\n",
    "print(a.shape)"
   ]
  },
  {
   "cell_type": "code",
   "execution_count": 106,
   "id": "a29e595b",
   "metadata": {},
   "outputs": [
    {
     "name": "stdout",
     "output_type": "stream",
     "text": [
      "[[7 2 1]\n",
      " [0 3 3]\n",
      " [4 2 7]\n",
      " [9 6 1]] \n",
      "\n",
      "(4, 3)\n"
     ]
    }
   ],
   "source": [
    "b = a.reshape(4,3)\n",
    "print(b,\"\\n\")\n",
    "print(b.shape)"
   ]
  },
  {
   "cell_type": "code",
   "execution_count": null,
   "id": "5dadc031",
   "metadata": {},
   "outputs": [],
   "source": []
  }
 ],
 "metadata": {
  "kernelspec": {
   "display_name": "Python 3 (ipykernel)",
   "language": "python",
   "name": "python3"
  },
  "language_info": {
   "codemirror_mode": {
    "name": "ipython",
    "version": 3
   },
   "file_extension": ".py",
   "mimetype": "text/x-python",
   "name": "python",
   "nbconvert_exporter": "python",
   "pygments_lexer": "ipython3",
   "version": "3.8.10"
  }
 },
 "nbformat": 4,
 "nbformat_minor": 5
}
